{
 "cells": [
  {
   "cell_type": "code",
   "execution_count": null,
   "metadata": {},
   "outputs": [],
   "source": [
    "import tensorflow as tf\n",
    "import numpy as np\n",
    "import matplotlib.pyplot as plt\n",
    "from segmentation_models.models import Unet\n",
    "import cv2\n",
    "from segmentation_models.utils import predict_big_image\n",
    "import os\n",
    "import sklearn\n",
    "from sklearn.metrics import confusion_matrix, f1_score, jaccard_score, balanced_accuracy_score\n",
    "from sklearn.metrics import ConfusionMatrixDisplay"
   ]
  },
  {
   "cell_type": "code",
   "execution_count": null,
   "metadata": {},
   "outputs": [],
   "source": [
    "imdir_test = \"./Test/Patch/Images/\"\n",
    "mdir_test = \"./Test/Patch/Annotations/\"\n",
    "\n",
    "\n",
    "test_imgs = tf.keras.utils.image_dataset_from_directory(\n",
    "    imdir_test,\n",
    "    labels=None,\n",
    "    batch_size=8,\n",
    "    image_size=(384, 384),\n",
    "    color_mode=\"rgb\",\n",
    "    seed=42,\n",
    ")\n",
    "test_masks = tf.keras.utils.image_dataset_from_directory(\n",
    "    mdir_test,\n",
    "    labels=None,\n",
    "    batch_size=8,\n",
    "    image_size=(384, 384),\n",
    "    color_mode=\"grayscale\",\n",
    "    seed=42,\n",
    ")\n",
    "\n",
    "test_ds = tf.data.Dataset.zip((test_imgs, test_masks))"
   ]
  },
  {
   "cell_type": "code",
   "execution_count": null,
   "metadata": {},
   "outputs": [],
   "source": [
    "LUT = np.zeros(shape=(7,3), dtype=np.uint8)\n",
    "\n",
    "LUT[0] = [0, 0, 0]          # Background\n",
    "LUT[1] = [244, 229, 136]    # WDF\n",
    "LUT[2] = [104, 180, 46]     # Swamp\n",
    "LUT[3] = [42, 75, 155]      # Organic\n",
    "LUT[4] = [241, 137, 24]     # Sand\n",
    "LUT[5] = [128, 192, 123]    # PDF\n",
    "LUT[6] = [106, 69, 149]     # ProDelta"
   ]
  },
  {
   "cell_type": "code",
   "execution_count": null,
   "metadata": {},
   "outputs": [],
   "source": [
    "for img, mask in test_ds.take(1):\n",
    "\n",
    "    for i in range(8):\n",
    "        fig, (ax1, ax2) = plt.subplots(nrows=1, ncols=2, figsize=(20, 20))\n",
    "        ax1.imshow(img[i].numpy().astype(np.uint8))\n",
    "        ax2.imshow(LUT[mask[i].numpy().astype('uint8')[..., 0]])\n",
    "        # ax1.imshow(LUT[mask[i].numpy().astype('uint8')[..., 0]], alpha=0.2)\n",
    "        ax1.axis('off') ; ax2.axis('off')"
   ]
  },
  {
   "cell_type": "code",
   "execution_count": null,
   "metadata": {},
   "outputs": [],
   "source": [
    "model = Unet((384, 384, 3), backbone=\"efficientnetb3\", classes=7, final_activation='softmax')\n",
    "model.load_weights('best_model.h5')"
   ]
  },
  {
   "cell_type": "code",
   "execution_count": null,
   "metadata": {},
   "outputs": [],
   "source": [
    "predictions = []\n",
    "labels = []\n",
    "\n",
    "for x, y in test_ds:\n",
    "\n",
    "    pred = model.predict(x)\n",
    "\n",
    "    pred = tf.argmax(pred, axis=-1)\n",
    "\n",
    "    predictions.append(pred)\n",
    "\n",
    "    labels.append(y.numpy())"
   ]
  },
  {
   "cell_type": "code",
   "execution_count": null,
   "metadata": {},
   "outputs": [],
   "source": [
    "prediction_array = np.concatenate(predictions, axis=0)\n",
    "prediction_array = np.ravel(prediction_array)\n",
    "\n",
    "labels_array = np.concatenate(labels, axis=0)\n",
    "labels_array = np.ravel(labels_array)\n"
   ]
  },
  {
   "cell_type": "code",
   "execution_count": null,
   "metadata": {},
   "outputs": [],
   "source": [
    "f1 = f1_score(y_true=labels_array, y_pred=prediction_array, average='weighted')"
   ]
  },
  {
   "cell_type": "code",
   "execution_count": null,
   "metadata": {},
   "outputs": [],
   "source": [
    "iou = jaccard_score(y_true=labels_array, y_pred=prediction_array, average='weighted')"
   ]
  },
  {
   "cell_type": "code",
   "execution_count": null,
   "metadata": {},
   "outputs": [],
   "source": [
    "acc = balanced_accuracy_score(y_true=labels_array, y_pred=prediction_array)"
   ]
  },
  {
   "cell_type": "code",
   "execution_count": null,
   "metadata": {},
   "outputs": [],
   "source": [
    "names = [\n",
    "\"Background\",\n",
    "\"WDFP\",\n",
    "\"Swamp\",\n",
    "\"Organic Layer\",\n",
    "\"Sands\",\n",
    "\"PDF\",\n",
    "\"Prodelta\",]\n",
    "\n",
    "cm = confusion_matrix(labels_array, prediction_array, normalize='true')"
   ]
  },
  {
   "cell_type": "code",
   "execution_count": null,
   "metadata": {},
   "outputs": [],
   "source": [
    "fig, ax = plt.subplots(1, 1, figsize=(10, 10))\n",
    "\n",
    "plt.rcParams.update({'font.size': 14})\n",
    "\n",
    "disp = ConfusionMatrixDisplay(confusion_matrix=cm, display_labels=names)\n",
    "disp.plot(cmap='Blues', ax=ax, xticks_rotation=45, values_format='.3f') #Blues\n",
    "ax.set_title('Confusion Matrix for Validation Data', fontsize=24)\n",
    "ax.set_ylabel('True Class', fontsize=20)\n",
    "ax.set_xlabel('Predicted Class', fontsize=20)\n",
    "\n",
    "ax.tick_params(axis='both', labelsize=16)\n",
    "\n",
    "plt.savefig('confusion_matrix_test_16_02_23.svg', bbox_inches='tight')"
   ]
  }
 ],
 "metadata": {
  "kernelspec": {
   "display_name": "Python 3.9.13 ('base')",
   "language": "python",
   "name": "python3"
  },
  "language_info": {
   "codemirror_mode": {
    "name": "ipython",
    "version": 3
   },
   "file_extension": ".py",
   "mimetype": "text/x-python",
   "name": "python",
   "nbconvert_exporter": "python",
   "pygments_lexer": "ipython3",
   "version": "3.9.13"
  },
  "orig_nbformat": 4,
  "vscode": {
   "interpreter": {
    "hash": "f08154012ddadd8e950e6e9e035c7a7b32c136e7647e9b7c77e02eb723a8bedb"
   }
  }
 },
 "nbformat": 4,
 "nbformat_minor": 2
}
